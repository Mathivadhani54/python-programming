{
  "nbformat": 4,
  "nbformat_minor": 0,
  "metadata": {
    "colab": {
      "provenance": [],
      "authorship_tag": "ABX9TyMc/6RnAZdGRc8NOJMYrpWt",
      "include_colab_link": true
    },
    "kernelspec": {
      "name": "python3",
      "display_name": "Python 3"
    },
    "language_info": {
      "name": "python"
    }
  },
  "cells": [
    {
      "cell_type": "markdown",
      "metadata": {
        "id": "view-in-github",
        "colab_type": "text"
      },
      "source": [
        "<a href=\"https://colab.research.google.com/github/Mathivadhani54/python-programming/blob/main/assignment%3A2.ipynb\" target=\"_parent\"><img src=\"https://colab.research.google.com/assets/colab-badge.svg\" alt=\"Open In Colab\"/></a>"
      ]
    },
    {
      "cell_type": "code",
      "execution_count": 1,
      "metadata": {
        "colab": {
          "base_uri": "https://localhost:8080/"
        },
        "id": "xhgQ6a0kvSs_",
        "outputId": "57929183-7f16-412a-f250-2af77ae143d0"
      },
      "outputs": [
        {
          "output_type": "stream",
          "name": "stdout",
          "text": [
            "enter the city name:bengaluru\n",
            "the weather in bengaluru is Clouds\n",
            "the temperture in bengaluru is 72F\n",
            "the humidity in bengaluru is 80\n",
            "the windspeed in bengaluru is 12.5kmph\n",
            "the bengaluru is in IN\n"
          ]
        }
      ],
      "source": [
        " import requests\n",
        "api_key=\"0b563bad1d7970f0a7d1a2d766f968f2\"\n",
        "user_input=input(\"enter the city name:\")\n",
        "weather_data=requests.get(\n",
        "   f\"https://api.openweathermap.org/data/2.5/weather?q={user_input}&units=imperial&APPID={api_key}\")\n",
        "if weather_data.json()[\"cod\"]==\"404\":\n",
        "    print(\"city not found\")\n",
        "else:\n",
        "    #print(weather_data.json())\n",
        "    weather=weather_data.json()[\"weather\"][0][\"main\"]\n",
        "    temp=round(weather_data.json()[\"main\"][\"temp\"])\n",
        "    humidity=weather_data.json()[\"main\"][\"humidity\"]\n",
        "    windspeed=weather_data.json()[\"wind\"][\"speed\"]\n",
        "    country=weather_data.json()[\"sys\"][\"country\"]\n",
        "    print(f\"the weather in {user_input} is {weather}\")\n",
        "    print(f\"the temperture in {user_input} is {temp}F\")\n",
        "    print(f\"the humidity in {user_input} is {humidity}\")\n",
        "    print(f\"the windspeed in {user_input} is {windspeed}kmph\")\n",
        "    print(f\"the {user_input} is in {country}\")\n",
        "\n"
      ]
    }
  ]
}